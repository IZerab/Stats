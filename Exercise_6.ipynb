{
 "cells": [
  {
   "cell_type": "code",
   "execution_count": 2,
   "metadata": {
    "pycharm": {
     "is_executing": true
    }
   },
   "outputs": [],
   "source": [
    "import random\n",
    "from scipy.stats import laplace\n",
    "\n",
    "import matplotlib.pyplot as plt\n",
    "import numpy as np\n",
    "%matplotlib inline"
   ]
  },
  {
   "cell_type": "code",
   "execution_count": 3,
   "metadata": {},
   "outputs": [],
   "source": [
    "# define the parameters\n",
    "m = 50\n",
    "n = 100\n",
    "k = 10000\n",
    "eps = 1"
   ]
  },
  {
   "cell_type": "code",
   "execution_count": 8,
   "metadata": {},
   "outputs": [
    {
     "name": "stdout",
     "output_type": "stream",
     "text": [
      "[32, 14, 44, 9, 10, 46, 5, 11, 15, 16, 20, 39, 2, 42, 40, 21, 17, 18, 35, 45, 29, 35, 4, 37, 13, 47, 44, 27, 8, 28, 35, 33, 43, 26, 27, 21, 44, 8, 12, 10, 36, 33, 20, 37, 2, 20, 9, 9, 30, 7, 11, 9, 25, 8, 39, 12, 41, 32, 4, 35, 32, 23, 24, 4, 11, 47, 11, 3, 1, 26, 29, 36, 8, 44, 42, 37, 7, 19, 8, 36, 3, 26, 47, 40, 32, 29, 42, 14, 11, 22, 22, 8, 13, 19, 15, 35, 28, 8, 21, 28]\n"
     ]
    }
   ],
   "source": [
    "# generate numbers from 1 to m\n",
    "X = [random.randint(0,m) for i in range(n)]\n",
    "print(X)"
   ]
  },
  {
   "cell_type": "code",
   "execution_count": 5,
   "metadata": {},
   "outputs": [],
   "source": [
    "# define the query\n",
    "def query(x):\n",
    "    return max(x)"
   ]
  },
  {
   "cell_type": "code",
   "execution_count": 6,
   "metadata": {},
   "outputs": [],
   "source": [
    "ws = laplace.rvs(size=k)"
   ]
  },
  {
   "cell_type": "code",
   "execution_count": 7,
   "metadata": {},
   "outputs": [],
   "source": [
    "zs = []\n",
    "f = query(X)\n",
    "for w in ws:\n",
    "    z = f + ((2*m)/(n*eps)) * w\n",
    "    zs.append(z)\n"
   ]
  },
  {
   "cell_type": "code",
   "execution_count": 33,
   "metadata": {},
   "outputs": [
    {
     "name": "stdout",
     "output_type": "stream",
     "text": [
      "49\n"
     ]
    },
    {
     "data": {
      "image/png": "[encoded data removed]",
      "text/plain": [
       "<Figure size 432x288 with 1 Axes>"
      ]
     },
     "metadata": {
      "needs_background": "light"
     },
     "output_type": "display_data"
    }
   ],
   "source": [
    "plt.hist(zs, bins=70) \n",
    "plt.axvline(x=f, color='red')\n",
    "plt.xlabel('Zx');\n",
    "print(f)"
   ]
  },
  {
   "cell_type": "code",
   "execution_count": 12,
   "metadata": {},
   "outputs": [],
   "source": [
    "def cardinality(x, z):\n",
    "    s = 0\n",
    "    for xi in x:\n",
    "        if xi > z:\n",
    "            s += 1\n",
    "    return s\n",
    "    \n",
    "def inverse(x, z):\n",
    "    if z > f:\n",
    "        return 1\n",
    "    if z == f:\n",
    "        return 0\n",
    "    else:\n",
    "        return cardinality(x, z)"
   ]
  },
  {
   "cell_type": "code",
   "execution_count": 9,
   "metadata": {},
   "outputs": [],
   "source": [
    "def pmf(x, z, f, values):\n",
    "    s = 0\n",
    "    eps2 = (-1)*eps/2\n",
    "    for u in values:\n",
    "        s += np.exp(eps2 * inverse(x, u))\n",
    "    \n",
    "    return np.exp(eps2 * inverse(x, z)) / s"
   ]
  },
  {
   "cell_type": "code",
   "execution_count": 34,
   "metadata": {},
   "outputs": [
    {
     "data": {
      "text/plain": [
       "Text(0.5, 0, 'F')"
      ]
     },
     "execution_count": 34,
     "metadata": {},
     "output_type": "execute_result"
    },
    {
     "data": {
      "image/png": "[encoded data removed]",
      "text/plain": [
       "<Figure size 432x288 with 1 Axes>"
      ]
     },
     "metadata": {
      "needs_background": "light"
     },
     "output_type": "display_data"
    }
   ],
   "source": [
    "prob = []\n",
    "values = range(0,m+1)\n",
    "for i in values:\n",
    "    prob.append(pmf(X, i, f, values))\n",
    "\n",
    "plt.bar(values, prob) \n",
    "plt.axvline(x=f, color='red')\n",
    "plt.ylabel('Probabilities')\n",
    "plt.xlabel('F')"
   ]
  }
 ],
 "metadata": {
  "kernelspec": {
   "display_name": "Python 3",
   "language": "python",
   "name": "python3"
  },
  "language_info": {
   "codemirror_mode": {
    "name": "ipython",
    "version": 3
   },
   "file_extension": ".py",
   "mimetype": "text/x-python",
   "name": "python",
   "nbconvert_exporter": "python",
   "pygments_lexer": "ipython3",
   "version": "3.7.4"
  }
 },
 "nbformat": 4,
 "nbformat_minor": 1
}
